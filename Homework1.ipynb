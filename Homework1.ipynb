{
 "cells": [
  {
   "cell_type": "markdown",
   "id": "4b6f48eb",
   "metadata": {},
   "source": [
    "## Приведите по 2 примера, когда лучше максимизировать Precision, а когда Recall."
   ]
  },
  {
   "cell_type": "markdown",
   "id": "6860110e",
   "metadata": {},
   "source": [
    "Presision:\n",
    "1. Поиск товара, который клиент захочет приобрести. Так как постоянно предлагая неинтересный ему товар мы снижаем его заинтересованность в наших советах.   \n",
    "2. Выбор мест для разведки месторождений ценных природных ресурсов в условия тяжелых природных условий. Так как \"промах\" будет стоить слишком дорого.\n",
    "\n",
    "Recall:\n",
    "1. Выявление заболевания у человека. Так как лучше отправить здорового человека на дополнительное обследование, чем пропустить возможность вылечить больного.\n",
    "2. Выявление нелояльных важных клиентов. Так как лучше проявить ошибиться и проявить внимание к лояльному клиенту, чем потерять того кто готов уйти от нас. "
   ]
  },
  {
   "cell_type": "markdown",
   "id": "bb800657",
   "metadata": {},
   "source": [
    "## Почему мы используем F-меру, почему, например, нельзя просто взять среднее от Precision и Recall?"
   ]
  },
  {
   "cell_type": "markdown",
   "id": "feba6058",
   "metadata": {},
   "source": [
    "Так как если одна из метрик стремится к нулю, то и f-мера стремится к нулю, что наглядно показывает несостоятельность такой модели. Среднее же в подобной ситуации даст нам значение, которое не будет наглядно отражать качество модели."
   ]
  },
  {
   "cell_type": "code",
   "execution_count": 5,
   "id": "cd2f1fce",
   "metadata": {},
   "outputs": [],
   "source": [
    "Recall = 1\n",
    "Precision = 0.001"
   ]
  },
  {
   "cell_type": "code",
   "execution_count": 6,
   "id": "49e4536f",
   "metadata": {},
   "outputs": [
    {
     "data": {
      "text/plain": [
       "0.5005"
      ]
     },
     "execution_count": 6,
     "metadata": {},
     "output_type": "execute_result"
    }
   ],
   "source": [
    "mean = (Recall + Precision) / 2\n",
    "mean"
   ]
  },
  {
   "cell_type": "code",
   "execution_count": 7,
   "id": "e62d41c6",
   "metadata": {},
   "outputs": [
    {
     "data": {
      "text/plain": [
       "0.0019980019980019984"
      ]
     },
     "execution_count": 7,
     "metadata": {},
     "output_type": "execute_result"
    }
   ],
   "source": [
    "f1_score = 2 * (Recall * Precision) / (Recall + Precision)\n",
    "f1_score"
   ]
  }
 ],
 "metadata": {
  "kernelspec": {
   "display_name": "Python 3",
   "language": "python",
   "name": "python3"
  },
  "language_info": {
   "codemirror_mode": {
    "name": "ipython",
    "version": 3
   },
   "file_extension": ".py",
   "mimetype": "text/x-python",
   "name": "python",
   "nbconvert_exporter": "python",
   "pygments_lexer": "ipython3",
   "version": "3.9.4"
  }
 },
 "nbformat": 4,
 "nbformat_minor": 5
}
